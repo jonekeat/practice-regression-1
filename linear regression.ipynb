{
 "cells": [
  {
   "cell_type": "markdown",
   "metadata": {},
   "source": [
    "# Linear Regression\n",
    "## Definition\n",
    "In statistics, linear regression is a linear approach to modeling the relationship between a scalar response (or dependent variable) and one or more explanatory variables (or independent variables). *-From Wikipedia*"
   ]
  },
  {
   "cell_type": "markdown",
   "metadata": {},
   "source": [
    "## Formula\n",
    "### Simple Linear Regression\n",
    "In simple linear regression, we attempt to model the relationship between two variables, for example, income and number of years of education.  \n",
    "$$y = \\beta_0 + \\beta_1x + \\varepsilon$$\n",
    "\n",
    "### Multiple Linear Regression\n",
    "In multiple regression, we attempt to predict a dependent or response variable $y$ on\n",
    "the basis of an assumed linear relationship with several independent or predictor variables $x_1, x_2, ... , x_k$.  \n",
    "$$y = \\beta_0 + \\beta_1x_1 + \\beta_2x_2 + ... + \\beta_kx_k + \\varepsilon$$   \n",
    "where  \n",
    "$y$: dependent or response variable (continuous)  \n",
    "$x$: independent or predictor variable (discrete or continuous)  \n",
    "$\\varepsilon$: error term in the model. In this context, error does not mean mistake but is a statistical term representing random fluctuations, measurement errors, or the effect of factors outside of our control  \n",
    "$\\beta_0$: constant or intercept of the regression. Initial values of $y$ if all $x_i = 0$  \n",
    "$\\beta_i$: weights of $x_i$ applies to $y$, measure the effect of $x_i$ on $y$  "
   ]
  },
  {
   "cell_type": "markdown",
   "metadata": {},
   "source": [
    "## Assumptions\n",
    "Typically, linear regression holds when these assumptions are fulfilled:\n",
    "1. **Linearity**: The relationship between X and the mean of Y is linear.  \n",
    "\n",
    "<center>$E(\\varepsilon) = 0$, or, equivalently, $E(y) = \\beta_0 + \\beta_1x_1 + \\beta_2x_2 + ... + \\beta_kx_k$</center>\n",
    "\n",
    "2. **Homoscedasticity**: The variance of residual is the same for any value of X.  \n",
    "\n",
    "<center>$var(\\varepsilon) = \\sigma^2$, or, equivalently, $var(y) = \\sigma^2$</center>  \n",
    "\n",
    "3. **Independence**: Observations are independent of each other.\n",
    "\n",
    "<center>$cov(\\varepsilon_i, \\varepsilon_j) = 0$ for all $i \\ne j$, or, equivalently, $cov(y_i, y_j) = 0$</center>  \n",
    "\n",
    "4. **Normality**: For any fixed value of X, Y is normally distributed.\n",
    "\n",
    "<center>$\\varepsilon \\sim N(0, \\sigma^2)$</center>  \n"
   ]
  },
  {
   "cell_type": "markdown",
   "metadata": {},
   "source": [
    "## Estimation"
   ]
  },
  {
   "cell_type": "markdown",
   "metadata": {},
   "source": [
    "## Illustration"
   ]
  },
  {
   "cell_type": "markdown",
   "metadata": {},
   "source": [
    "## Example"
   ]
  },
  {
   "cell_type": "code",
   "execution_count": 20,
   "metadata": {},
   "outputs": [
    {
     "name": "stdout",
     "output_type": "stream",
     "text": [
      "(506, 13)\n",
      "(506,)\n"
     ]
    }
   ],
   "source": [
    "import numpy as np\n",
    "from sklearn.datasets import load_boston\n",
    "from sklearn.model_selection import train_test_split\n",
    "from sklearn.linear_model import LinearRegression\n",
    "X, y = load_boston(return_X_y=True)\n",
    "print(X.shape)\n",
    "print(y.shape)"
   ]
  },
  {
   "cell_type": "code",
   "execution_count": 32,
   "metadata": {},
   "outputs": [
    {
     "name": "stdout",
     "output_type": "stream",
     "text": [
      "R2 score for training set is: 0.7434997532004697\n",
      "31.631084035694585\n",
      "[-1.33470103e-01  3.58089136e-02  4.95226452e-02  3.11983512e+00\n",
      " -1.54170609e+01  4.05719923e+00 -1.08208352e-02 -1.38599824e+00\n",
      "  2.42727340e-01 -8.70223437e-03 -9.10685208e-01  1.17941159e-02\n",
      " -5.47113313e-01]\n"
     ]
    }
   ],
   "source": [
    "X_train, X_test, y_train, y_test = train_test_split(X, y, test_size=0.3, random_state=42)\n",
    "lreg = LinearRegression()\n",
    "model = lreg.fit(X_train, y_train)\n",
    "print(\"R2 score for training set is:\", model.score(X_train, y_train))\n",
    "print(model.intercept_)\n",
    "print(model.coef_)"
   ]
  },
  {
   "cell_type": "code",
   "execution_count": 36,
   "metadata": {},
   "outputs": [
    {
     "name": "stdout",
     "output_type": "stream",
     "text": [
      "21.517444231176995\n"
     ]
    }
   ],
   "source": [
    "y_predicted = model.predict(X_test)\n",
    "error = y_test - y_predicted\n",
    "print(np.mean(error ** 2))"
   ]
  },
  {
   "cell_type": "code",
   "execution_count": null,
   "metadata": {},
   "outputs": [],
   "source": []
  }
 ],
 "metadata": {
  "kernelspec": {
   "display_name": "Python 3",
   "language": "python",
   "name": "python3"
  },
  "language_info": {
   "codemirror_mode": {
    "name": "ipython",
    "version": 3
   },
   "file_extension": ".py",
   "mimetype": "text/x-python",
   "name": "python",
   "nbconvert_exporter": "python",
   "pygments_lexer": "ipython3",
   "version": "3.8.3"
  }
 },
 "nbformat": 4,
 "nbformat_minor": 4
}
